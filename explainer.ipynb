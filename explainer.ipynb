{
 "cells": [
  {
   "cell_type": "markdown",
   "id": "02d9bc4c",
   "metadata": {},
   "source": [
    "## A (brief) explainer of permutation groups S<sub>n</sub>\n",
    "\n",
    "Put in guide here."
   ]
  }
 ],
 "metadata": {
  "language_info": {
   "name": "python"
  }
 },
 "nbformat": 4,
 "nbformat_minor": 5
}
